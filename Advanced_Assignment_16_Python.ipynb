{
 "cells": [
  {
   "cell_type": "code",
   "execution_count": null,
   "metadata": {},
   "outputs": [],
   "source": [
    "#Q1. What is the benefit of regular expressions?\n",
    "#(A)\n",
    "#Using regular expression, one can easily identity the pattern and extract the required values texts from a strings or lines\n",
    "\n",
    "\n",
    "\n"
   ]
  },
  {
   "cell_type": "code",
   "execution_count": 27,
   "metadata": {},
   "outputs": [
    {
     "name": "stdout",
     "output_type": "stream",
     "text": [
      "a(bc)+\n",
      "First pattern: a(bc)+\n",
      "(ab)c+\n",
      "Second pattern: (ab)c+\n"
     ]
    }
   ],
   "source": [
    "#Q2. Describe the difference between the effects of \"(ab)c+\" and \"a(bc)+.\" Which of these, if any, is the unqualified pattern \"abc+\"?\n",
    "#(A)\n",
    "# Both are valid patterns\n",
    "\n",
    "import re\n",
    "text= \"a(bc)+\"\n",
    "print(text)\n",
    "rexobj=re.compile(r'\\w+\\(\\w+\\)\\+')\n",
    "mtobj=rexobj.search(text)\n",
    "print(\"First pattern:\",mtobj.group(0))\n",
    "\n",
    "text1= \"(ab)c+\"\n",
    "print(text1)\n",
    "rexobj1=re.compile(r'\\(\\w+\\w\\)\\w\\+')\n",
    "mtobj1=rexobj1.search(text1)\n",
    "print(\"Second pattern:\",mtobj1.group(0))\n",
    "\n",
    "\n"
   ]
  },
  {
   "cell_type": "code",
   "execution_count": null,
   "metadata": {},
   "outputs": [],
   "source": [
    "Q3. How much do you need to use the following sentence while using regular expressions?\n",
    "#(A) One has to import re to using the regular expressions\n",
    "\n",
    "\n",
    "\n"
   ]
  },
  {
   "cell_type": "code",
   "execution_count": 34,
   "metadata": {},
   "outputs": [
    {
     "name": "stdout",
     "output_type": "stream",
     "text": [
      "['1', '2', '3', '4', '5', '^']\n"
     ]
    }
   ],
   "source": [
    "#Q4. Which characters have special significance in square brackets when expressing a range, and under what circumstances?\n",
    "#(A) The characters ., *, ?, ^ or () have special significance when used in square brackets. They need not be escacped by '\\'\n",
    "# as in case of patterns texts in raw string.\n",
    "#e.g.\n",
    "import re\n",
    "text = \"Hello world 123456^\"\n",
    "regobj=re.compile(r'[1-5^]')\n",
    "matobj=regobj.findall(text)\n",
    "print(matobj)\n",
    "\n"
   ]
  },
  {
   "cell_type": "code",
   "execution_count": null,
   "metadata": {},
   "outputs": [],
   "source": [
    "Q5. How does compiling a regular-expression object benefit you?\n",
    "#(A)\n",
    "#combine a regular expression pattern into pattern objects, which can be used for pattern matching. \n",
    "#It also helps to search a pattern again without rewriting it.\n",
    "\n",
    "\n",
    "\n"
   ]
  },
  {
   "cell_type": "code",
   "execution_count": 35,
   "metadata": {},
   "outputs": [
    {
     "name": "stdout",
     "output_type": "stream",
     "text": [
      "<re.Match object; span=(30, 35), match='Alive'>\n",
      "None\n",
      "<re.Match object; span=(0, 5), match='Alive'>\n",
      "<re.Match object; span=(0, 5), match='Alive'>\n"
     ]
    }
   ],
   "source": [
    "Q6. What are some examples of how to use the match object returned by re.match and re.search?\n",
    "#(A)\n",
    "# re.search() searches for the whole string even if the string contains multi-lines and tries to\n",
    "# find a match of the substring in all the lines of string. It returns the first occurrence or match of search substring \n",
    "\n",
    "#re.match() searches only from the beginning of the string and return match object if found.\n",
    "# But if a match of substring is found somewhere in the middle of the string, it returns none.\n",
    "#It also returns a first occurrence or match of search substring.\n",
    "\n",
    "import re\n",
    " \n",
    "Substring ='alive'\n",
    " \n",
    " \n",
    "String1 ='''Ask an astronaut. How to stay Alive'''\n",
    "String2 ='''Alive we all are. But how Alive we are one has to introspect'''\n",
    " \n",
    "# Use of re.search() Method\n",
    "print(re.search(Substring, String1, re.IGNORECASE)) #Returns match found at index 30\n",
    "\n",
    "# Use of re.match() Method\n",
    "print(re.match(Substring, String1, re.IGNORECASE)) #Returns None as the substring is not in th ebeggining of the String\n",
    " \n",
    "# Use of re.search() Method\n",
    "print(re.search(Substring, String2, re.IGNORECASE)) #returns match found at index 0\n",
    "\n",
    "# Use of re.match() Method\n",
    "print(re.match(Substring, String2, re.IGNORECASE)) #returns match found at index 0\n",
    "\n",
    "\n",
    "\n"
   ]
  },
  {
   "cell_type": "code",
   "execution_count": 65,
   "metadata": {},
   "outputs": [
    {
     "name": "stdout",
     "output_type": "stream",
     "text": [
      "Tim\n",
      "Peake\n",
      "['M', 'n', 'm', 's', 'T', 'm', 'P']\n"
     ]
    }
   ],
   "source": [
    "#Q7. What is the difference between using a vertical bar (|) as an alteration and using square brackets as a character set?\n",
    "#(A)\n",
    "# When (|) is used the pattern searches for  'or' option i.e <str1>|<str2> means it searches for\n",
    "# as <str1> or <str2>. When both <str1> and <str2> occur in the searched string, the first occurrence of matching text\n",
    "# will be returned as the Match object\n",
    "\n",
    "# Using character set in square brackets is used, it searches for all the character set in the square bracket and if match found\n",
    "# it returns it\n",
    "\n",
    "\n",
    "import re\n",
    "\n",
    "#Using (|)\n",
    "\n",
    "text = \"My name is Tim Peake\"\n",
    "text1= \"My name is Peake Tim\"\n",
    "text2=\"My name is Tim Peake\"\n",
    "\n",
    "regobj=re.compile(r'Tim|Peake')\n",
    "matobj=regobj.search(text)\n",
    "print(matobj.group(0))\n",
    "\n",
    "regobj1=re.compile(r'Tim|Peake')\n",
    "matobj1=regobj.search(text1)\n",
    "print(matobj1.group(0))\n",
    "      \n",
    "      \n",
    "#Using character set in []      \n",
    "\n",
    "regobj2=re.compile(r'[m-tM-T]')\n",
    "matobj2=regobj2.findall(text2)\n",
    "print(matobj2)\n",
    "\n"
   ]
  },
  {
   "cell_type": "code",
   "execution_count": null,
   "metadata": {},
   "outputs": [],
   "source": [
    "Q8. In regular-expression search patterns, why is it necessary to use the raw-string indicator (r)? In   replacement strings?\n",
    "#(A)\n",
    "#Raw strings are used in regular expression search patterns, so that backslashes do not have to be escaped."
   ]
  }
 ],
 "metadata": {
  "kernelspec": {
   "display_name": "Python 3",
   "language": "python",
   "name": "python3"
  },
  "language_info": {
   "codemirror_mode": {
    "name": "ipython",
    "version": 3
   },
   "file_extension": ".py",
   "mimetype": "text/x-python",
   "name": "python",
   "nbconvert_exporter": "python",
   "pygments_lexer": "ipython3",
   "version": "3.8.5"
  }
 },
 "nbformat": 4,
 "nbformat_minor": 4
}
