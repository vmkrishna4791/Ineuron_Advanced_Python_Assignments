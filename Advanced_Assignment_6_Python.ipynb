{
 "cells": [
  {
   "cell_type": "code",
   "execution_count": 3,
   "metadata": {},
   "outputs": [
    {
     "data": {
      "text/plain": [
       "'\\n(A) Exception processing is applied \\n(a) for handling the errors, \\n(b) providing necessary notification on occurrence of certain events  \\n(c) Providing handover control of the code using return, break etc\\n\\n'"
      ]
     },
     "execution_count": 3,
     "metadata": {},
     "output_type": "execute_result"
    }
   ],
   "source": [
    "#Q1. Describe three applications for exception processing.\n",
    "\n",
    "\"\"\"\n",
    "(A) Exception processing is applied \n",
    "(a) for handling the errors, \n",
    "(b) providing necessary notification on occurrence of certain events  \n",
    "(c) Providing handover control of the code using return, break etc\n",
    "\n",
    "\"\"\"\n",
    "\n",
    "\n",
    "\n",
    "\n"
   ]
  },
  {
   "cell_type": "code",
   "execution_count": 4,
   "metadata": {},
   "outputs": [
    {
     "data": {
      "text/plain": [
       "'\\n(A)If the specific error is not handled, it gets captured by default exception provided by the python\\n\\n'"
      ]
     },
     "execution_count": 4,
     "metadata": {},
     "output_type": "execute_result"
    }
   ],
   "source": [
    "#Q2. What happens if you don't do something extra to treat an exception?\n",
    "\"\"\"\n",
    "(A)If the specific error is not handled, it gets captured by default exception provided by the python\n",
    "\n",
    "\"\"\"\n",
    "\n",
    "\n"
   ]
  },
  {
   "cell_type": "code",
   "execution_count": 5,
   "metadata": {},
   "outputs": [
    {
     "data": {
      "text/plain": [
       "'\\n(A) Using the try-except we can catch and recover. \\nAfter the exception is handled, the program will continue after the try-except block.\\n\\n'"
      ]
     },
     "execution_count": 5,
     "metadata": {},
     "output_type": "execute_result"
    }
   ],
   "source": [
    "#Q3. What are your options for recovering from an exception in your script?\n",
    "\n",
    "\"\"\"\n",
    "(A) Using the try-except we can catch and recover. \n",
    "After the exception is handled, the program will continue after the try-except block.\n",
    "\n",
    "\"\"\"\n",
    "\n",
    "\n"
   ]
  },
  {
   "cell_type": "code",
   "execution_count": 6,
   "metadata": {},
   "outputs": [
    {
     "data": {
      "text/plain": [
       "'\\n(A)raise and assert statements are used triggering exceptions\\n\\n'"
      ]
     },
     "execution_count": 6,
     "metadata": {},
     "output_type": "execute_result"
    }
   ],
   "source": [
    "#Q4. Describe two methods for triggering exceptions in your script.\n",
    "\"\"\"\n",
    "(A)raise and assert statements are used triggering exceptions\n",
    "\n",
    "\"\"\"\n",
    "\n",
    "\n"
   ]
  },
  {
   "cell_type": "code",
   "execution_count": 7,
   "metadata": {},
   "outputs": [
    {
     "data": {
      "text/plain": [
       "'\\n(A)try/finally statement. The finally clause will execute as the last task before the try statement completes.\\nThe finally clause runs whether or not the try statement produces an exception.\\n\\n'"
      ]
     },
     "execution_count": 7,
     "metadata": {},
     "output_type": "execute_result"
    }
   ],
   "source": [
    "#Q5. Identify two methods for specifying actions to be executed at termination time, regardless of whether or not an exception exists.\n",
    "\"\"\"\n",
    "(A)try/finally statement. The finally clause will execute as the last task before the try statement completes.\n",
    "The finally clause runs whether or not the try statement produces an exception.\n",
    "\n",
    "\"\"\""
   ]
  },
  {
   "cell_type": "code",
   "execution_count": null,
   "metadata": {},
   "outputs": [],
   "source": []
  }
 ],
 "metadata": {
  "kernelspec": {
   "display_name": "Python 3",
   "language": "python",
   "name": "python3"
  },
  "language_info": {
   "codemirror_mode": {
    "name": "ipython",
    "version": 3
   },
   "file_extension": ".py",
   "mimetype": "text/x-python",
   "name": "python",
   "nbconvert_exporter": "python",
   "pygments_lexer": "ipython3",
   "version": "3.8.5"
  }
 },
 "nbformat": 4,
 "nbformat_minor": 4
}
