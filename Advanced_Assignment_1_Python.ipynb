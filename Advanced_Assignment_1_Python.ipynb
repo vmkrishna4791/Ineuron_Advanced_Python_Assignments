{
 "cells": [
  {
   "cell_type": "code",
   "execution_count": 13,
   "metadata": {},
   "outputs": [],
   "source": [
    "#Q1. What is the purpose of Python's OOP?\n",
    "#(A)\n",
    "# The pupose of OOP's are Modularity, code reuse and model real world entities containing \n",
    "# some data and certain methods to access and operate on the data\n",
    "\n",
    "\n"
   ]
  },
  {
   "cell_type": "code",
   "execution_count": 35,
   "metadata": {},
   "outputs": [
    {
     "name": "stdout",
     "output_type": "stream",
     "text": [
      "Value of x in instance of class D: x from D\n",
      "The value of x is newly defined one in A and C inherits from A and E inturn inherits it from C: New value of x from A\n",
      "The value x is set in C and as E inherits C object first: New value of x from C\n",
      "(<class '__main__.E'>, <class '__main__.C'>, <class '__main__.A'>, <class '__main__.D'>, <class '__main__.B'>, <class 'object'>)\n"
     ]
    }
   ],
   "source": [
    "#Q2. Where does an inheritance search look for an attribute?\n",
    "#(A)First search happens in the instance of class object. \n",
    "# Then it searches in the first class passed from which it inherits i.e its parent class or super class. \n",
    "#If the first class from which it inherits doesnt have the\n",
    "#value attribute, it will inherit it from second class passed from which it inherits and in the order it is passed.\n",
    "\n",
    "class A(object): pass\n",
    " \n",
    "class B(object):\n",
    "    x = 'x from B'\n",
    " \n",
    "class C(A, B): pass\n",
    " \n",
    "class D(B):\n",
    "    x = 'x from D'\n",
    " \n",
    "class E(C, D): \n",
    "    pass\n",
    "\n",
    "e_inst = E()\n",
    "print(\"Value of x in instance of class D:\",e_inst.x) # Here the value of x is searched in Class D though it inherits from B and D\n",
    "\n",
    "A.x='New value of x from A'\n",
    "print(\"The value of x is newly defined one in A and C inherits from A and E inturn inherits it from C:\",e_inst.x)\n",
    "\n",
    "C.x='New value of x from C'\n",
    "print(\"The value x is set in C and as E inherits C object first:\", e_inst.x)\n",
    "\n",
    "print(E.__mro__)\n",
    "\n",
    "\n"
   ]
  },
  {
   "cell_type": "code",
   "execution_count": 42,
   "metadata": {},
   "outputs": [],
   "source": [
    "#Q3. How do you distinguish between a class object and an instance object?\n",
    "#(A)\n",
    "#A class is a template for creating objects in program. It is a logical entity and occupies no memory space\n",
    "\n",
    "# The object is an instance of a class and a physical entity. When Instance object is created memory is allocated.\n",
    "\n",
    "\n"
   ]
  },
  {
   "cell_type": "code",
   "execution_count": 43,
   "metadata": {},
   "outputs": [
    {
     "name": "stdout",
     "output_type": "stream",
     "text": [
      "The age is: 25\n"
     ]
    }
   ],
   "source": [
    "#Q4. What makes the first argument in a class’s method function special?\n",
    "#(A)\n",
    "#The 'self' is received as the first argument of the class method function which refers \n",
    "# instance of the object of created.\n",
    "\n",
    "\n",
    "\n",
    "\n",
    "\n"
   ]
  },
  {
   "cell_type": "code",
   "execution_count": 44,
   "metadata": {},
   "outputs": [
    {
     "name": "stdout",
     "output_type": "stream",
     "text": [
      "10 20\n"
     ]
    }
   ],
   "source": [
    "#Q5. What is the purpose of the __init__ method?\n",
    "#(A) The pupose of the __init__ method is to initialize the instance of a class when it is created.\n",
    "#It contains the instance of the class by default when the instance of the class is created and can also\n",
    "# take additional arguments or values\n",
    "\n",
    "class A:\n",
    "    \n",
    "    def __init__(self,x,y): \n",
    "        \n",
    "        self.x = x\n",
    "        self.y = y\n",
    "        \n",
    "\n",
    "obj=A(10,20) # the instance of the obj is passed by default. 10 and 20 are the arguments passed to __init__\n",
    "print(obj.x, obj.y)\n",
    "        \n",
    "\n",
    "\n",
    "\n"
   ]
  },
  {
   "cell_type": "code",
   "execution_count": 46,
   "metadata": {},
   "outputs": [
    {
     "name": "stdout",
     "output_type": "stream",
     "text": [
      "True\n"
     ]
    }
   ],
   "source": [
    "#Q6. What is the process for creating a class instance?\n",
    "#(A)\n",
    "\n",
    "class A:\n",
    "    \n",
    "    def __init__(self):\n",
    "        pass        \n",
    "\n",
    "obj=A()\n",
    "\n",
    "print(isinstance(obj,A))\n",
    "\n",
    "# here obj is instance of class A\n",
    "\n"
   ]
  },
  {
   "cell_type": "code",
   "execution_count": null,
   "metadata": {},
   "outputs": [],
   "source": [
    "#Q7. What is the process for creating a class?\n",
    "#(A)By exeeuting the class statements a class is created\n",
    "#e.g:\n",
    "#class <ClassName>:\n",
    "    # Statement-1\n",
    "    .\n",
    "    .\n",
    "    .\n",
    "    # Statement-N\n",
    "\n",
    "\n"
   ]
  },
  {
   "cell_type": "code",
   "execution_count": 48,
   "metadata": {},
   "outputs": [
    {
     "name": "stdout",
     "output_type": "stream",
     "text": [
      "salary: 8000\n",
      "name: John\n",
      "age: 20\n"
     ]
    }
   ],
   "source": [
    "#Q8. How would you define the superclasses of a class?\n",
    "#(A)\n",
    "\n",
    "class Person(): # Parent or Super class\n",
    "    def __init__(self, per_name, per_age):\n",
    "        self.name = per_name\n",
    "        self.age = per_age\n",
    "\n",
    "    def display1(self):\n",
    "        print(\"name:\", self.name)\n",
    "        print(\"age:\", self.age)\n",
    "\n",
    "# subclass\n",
    "\n",
    "class Employee(Person):# Sub class takes the super class name as a parameter within the () in order the class names are passed\n",
    "    def __init__(self, emp_name, emp_age, emp_salary):\n",
    "        self.salary = emp_salary\n",
    "        super().__init__(emp_name, emp_age)\n",
    "\n",
    "    def display2(self):\n",
    "        print(\"salary:\", self.salary)\n",
    "        super().display1()\n",
    "\n",
    "emp = Employee(\"John\", 20, 8000)  # creating object of subclass\n",
    "\n",
    "emp.display2()\n",
    "\n"
   ]
  },
  {
   "cell_type": "code",
   "execution_count": null,
   "metadata": {},
   "outputs": [],
   "source": []
  }
 ],
 "metadata": {
  "kernelspec": {
   "display_name": "Python 3",
   "language": "python",
   "name": "python3"
  },
  "language_info": {
   "codemirror_mode": {
    "name": "ipython",
    "version": 3
   },
   "file_extension": ".py",
   "mimetype": "text/x-python",
   "name": "python",
   "nbconvert_exporter": "python",
   "pygments_lexer": "ipython3",
   "version": "3.8.5"
  }
 },
 "nbformat": 4,
 "nbformat_minor": 4
}
