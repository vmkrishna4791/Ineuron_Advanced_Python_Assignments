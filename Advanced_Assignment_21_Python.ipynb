{
 "cells": [
  {
   "cell_type": "code",
   "execution_count": null,
   "metadata": {},
   "outputs": [],
   "source": [
    "#Q1. What is a probability distribution, exactly? If the values are meant to be random, how can you predict them at all?\n",
    "#(A)\n",
    "#A probability distribution describes how a random variable is distributed;\n",
    "#it tells us which values a random variable is most likely to take on and which values \n",
    "# are less likely.\n",
    "#Based on the previous data and the occurences of the random event, we can predict the outcome \n",
    "# in terms of probabilities.\n",
    "\n",
    "\n"
   ]
  },
  {
   "cell_type": "code",
   "execution_count": null,
   "metadata": {},
   "outputs": [],
   "source": [
    "Q2. Is there a distinction between true random numbers and pseudo-random numbers, if there is one? Why are the latter considered “good enough”?\n",
    "#(A)\n",
    "#The difference between true random number(TRN) and pseudo-random number(PRN), is that\n",
    "#TRN's are unpredictable physical values means (like atmospheric noise), and PRN\n",
    "#are generated using mathematical algorithms (completely computer-generated).\n",
    "# The PRN's are good enough as they follow a uniform distribution and the seed for generating \n",
    "# PRN is unpredictable and unknown.\n",
    "\n",
    "\n"
   ]
  },
  {
   "cell_type": "code",
   "execution_count": null,
   "metadata": {},
   "outputs": [],
   "source": [
    "#Q3. What are the two main factors that influence the behaviour of a \"normal\" probability distribution?\n",
    "#(A)\n",
    "#A normal distribution is determined by two parameters the mean and the variance. \n",
    "# A normal distribution with a mean of 0 and a standard deviation of 1 is called a standard normal distribution.\n",
    "\n",
    "\n",
    "\n"
   ]
  },
  {
   "cell_type": "code",
   "execution_count": null,
   "metadata": {},
   "outputs": [],
   "source": [
    "#Q4. Provide a real-life example of a normal distribution.\n",
    "#(A)\n",
    "#A fair rolling of dice is also a good example of normal distribution.\n",
    "\n",
    "\n",
    "\n"
   ]
  },
  {
   "cell_type": "code",
   "execution_count": null,
   "metadata": {},
   "outputs": [],
   "source": [
    "#Q5. In the short term, how can you expect a probability distribution to behave? What do you think will happen as the number of trials grows?\n",
    "#(A)\n",
    "#When trails are less, the variance will large.\n",
    "# As the number of trials increase , the variance will reduce.\n",
    "\n",
    "\n"
   ]
  },
  {
   "cell_type": "code",
   "execution_count": null,
   "metadata": {},
   "outputs": [],
   "source": [
    "#Q6. What kind of object can be shuffled by using random.shuffle?\n",
    "#(A)\n",
    "#random.shuffle can used to shuffle list object\n",
    "\n",
    "\n",
    "\n",
    "\n"
   ]
  },
  {
   "cell_type": "code",
   "execution_count": null,
   "metadata": {},
   "outputs": [],
   "source": [
    "#Q7. Describe the math package's general categories of functions.\n",
    "#(A)\n",
    "#The general categories of math package are\n",
    "#1) Trigonometric functions\n",
    "#2)Quadratic functions\n",
    "#3)Exponential functions\n",
    "#4)Hyperbolic functions\n",
    "#5)Periodic functions\n",
    "#6)Arithmetic functions\n",
    "#7)Logarithimic functions\n",
    "#8)Conversions to Integer\n",
    "\n",
    "\n",
    "\n"
   ]
  },
  {
   "cell_type": "code",
   "execution_count": null,
   "metadata": {},
   "outputs": [],
   "source": [
    "#Q8. What is the relationship between exponentiation and logarithms?\n",
    "#(A)\n",
    "#The exponential function is given by ƒ(x) = ex, whereas the logarithmic function is \n",
    "#given by g(x) = ln x, and former is the inverse of the latter. \n",
    "\n",
    "\n",
    "\n"
   ]
  },
  {
   "cell_type": "code",
   "execution_count": null,
   "metadata": {},
   "outputs": [],
   "source": [
    "#Q9. What are the three logarithmic functions that Python supports?\n",
    "#(A)\n",
    "#1)log2(x) - logarithmic value of x to base 2\n",
    "#2)log10(x) - logarithmic value of x to base 10\n",
    "#3)log(x,base) - logarithmic value of x to base. If only first parameter is given , it computes its\n",
    "# value tp base e,natural logarithm\n",
    "#4)log1p(x) - natural logarithm (base e) value of 1+x "
   ]
  }
 ],
 "metadata": {
  "kernelspec": {
   "display_name": "Python 3",
   "language": "python",
   "name": "python3"
  },
  "language_info": {
   "codemirror_mode": {
    "name": "ipython",
    "version": 3
   },
   "file_extension": ".py",
   "mimetype": "text/x-python",
   "name": "python",
   "nbconvert_exporter": "python",
   "pygments_lexer": "ipython3",
   "version": "3.8.5"
  }
 },
 "nbformat": 4,
 "nbformat_minor": 4
}
