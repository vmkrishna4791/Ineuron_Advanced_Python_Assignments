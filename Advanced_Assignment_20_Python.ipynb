{
 "cells": [
  {
   "cell_type": "code",
   "execution_count": 21,
   "metadata": {},
   "outputs": [
    {
     "name": "stdout",
     "output_type": "stream",
     "text": [
      "<class 'float'>\n",
      "0.44999999999999996\n",
      "(1, 2)\n",
      "(3152519739159347, 9007199254740992)\n",
      "Context(prec=28, rounding=ROUND_HALF_EVEN, Emin=-999999, Emax=999999, capitals=1, clamp=0, flags=[], traps=[InvalidOperation, DivisionByZero, Overflow])\n",
      "d= 0.01818181818181818181818181818\n",
      "e= 0.018182\n"
     ]
    }
   ],
   "source": [
    "#1. Compare and contrast the float and Decimal classes' benefits and drawbacks?\n",
    "#(A)\n",
    "#e.g.\n",
    "a = 0.35 # float value\n",
    "print(type(a))\n",
    "\n",
    "#float objects like this one are always represented internally up to a certain degree of accuracy only.\n",
    "#This becomes evident when adding 0.1 to a:\n",
    "\n",
    "print(a+0.1)\n",
    "\n",
    "#The reason for this is that floats are internally represented in binary format;\n",
    "#that is, a decimal number 0 < n < 1 is represented by a series of the form . \n",
    "# For certain floating-point numbers the binary representation might involve a large number \n",
    "# of elements or might even be an infinite series. However, given a fixed number of bits used \n",
    "# to represent such a number—i.e., a fixed number of terms in the representation \n",
    "# series—inaccuracies are the consequence. Other numbers can be represented perfectly \n",
    "# and are therefore stored exactly even with a finite number of bits available. \n",
    "\n",
    "#e.g.\n",
    "b=0.5 \n",
    "\n",
    "print(b.as_integer_ratio()) #i.e. 0.5 is exactly represented as 1/2\n",
    "\n",
    "#in case of b=0.35\n",
    "\n",
    "b=0.35\n",
    "print(b.as_integer_ratio()) # Here teh b=0.35 is not exact\n",
    "\n",
    "#The precision is dependent on the number of bits used to represent the number. \n",
    "# Hence some error can creep in. It translates 15 digits accuracy for float.\n",
    "\n",
    "#For example, the issue can be of importance when summing over a large set of numbers. \n",
    "#In such a situation, a certain kind and/or magnitude of representation error might, \n",
    "# in aggregate, lead to significant deviations from a benchmark value.\n",
    "\n",
    "#In order to overcome this we use the decimal module.\n",
    "#The module decimal provides an arbitrary-precision object for floating-point numbers \n",
    "# and several options to address precision issues when working with such numbers:\n",
    "\n",
    "import decimal\n",
    "from decimal import Decimal\n",
    "\n",
    "print(decimal.getcontext())\n",
    "\n",
    "d = Decimal(1) / Decimal (55)\n",
    "print(\"d=\",d)\n",
    "\n",
    "decimal.getcontext().prec = 5  # lower precision \n",
    "\n",
    "e=Decimal(1)/Decimal(55)\n",
    "print(\"e=\",e)\n",
    "\n",
    "#The precision can in this way be adjusted to the exact problem at hand and one can operate\n",
    "# with floating-point objects that exhibit different degrees of accuracy.\n"
   ]
  },
  {
   "cell_type": "code",
   "execution_count": 23,
   "metadata": {},
   "outputs": [
    {
     "name": "stdout",
     "output_type": "stream",
     "text": [
      "1.200\n",
      "1.2\n"
     ]
    }
   ],
   "source": [
    "#2. Decimal('1.200') and Decimal('1.2') are two objects to consider. In what sense are these the same object? Are these just two ways of representing the exact same value, or do they correspond to different internal states?\n",
    "#(A)\n",
    "print(Decimal('1.200'))\n",
    "\n",
    "print(Decimal('1.2'))\n",
    "\n",
    "#Though they are identical value wise, internal representation or internal state of these two \n",
    "# values are different, as they have decimal values of different precisions.\n",
    "\n",
    "\n"
   ]
  },
  {
   "cell_type": "code",
   "execution_count": 24,
   "metadata": {},
   "outputs": [
    {
     "name": "stdout",
     "output_type": "stream",
     "text": [
      "True\n"
     ]
    }
   ],
   "source": [
    "#3. What happens if the equality of Decimal('1.200') and Decimal('1.2') is checked?\n",
    "#(A)It returns that the values are stored are True.\n",
    "print(Decimal('1.200') == Decimal('1.2'))\n",
    "\n",
    "\n",
    "\n"
   ]
  },
  {
   "cell_type": "code",
   "execution_count": 26,
   "metadata": {},
   "outputs": [
    {
     "name": "stdout",
     "output_type": "stream",
     "text": [
      "0.299999999999999988897769753748434595763683319091796875\n",
      "0.3\n"
     ]
    }
   ],
   "source": [
    "#4. Why is it preferable to start a Decimal object with a string rather than a floating-point value?\n",
    "#(A)\n",
    "#floating-point value is converted to Decimal format. Decimal can store float value with absolute\n",
    "#precision. But when float value is given as Decimal object,it first has to be converted from \n",
    "#floating point value which might already have rounding error.\n",
    "#Hence it is preferable to start a Decimal object with a string.\n",
    "\n",
    "#e.g.\n",
    "import decimal\n",
    "from decimal import Decimal\n",
    "\n",
    "a=Decimal(0.3) #0.3 is a float\n",
    "print(a) # It is not stored exactly as 0.3 but as printed.\n",
    "\n",
    "b=Decimal('0.3') #'0.3' is a string\n",
    "print(b) #It exactly prints 0.3, precisely, with correct precision.\n",
    "\n",
    "\n",
    "\n",
    "\n"
   ]
  },
  {
   "cell_type": "code",
   "execution_count": 32,
   "metadata": {},
   "outputs": [
    {
     "name": "stdout",
     "output_type": "stream",
     "text": [
      "<class 'int'>\n",
      "2\n",
      "4\n"
     ]
    }
   ],
   "source": [
    "#5. In an arithmetic phrase, how simple is it to combine Decimal objects with integers?\n",
    "#(A)\n",
    "import decimal\n",
    "from decimal import Decimal\n",
    "\n",
    "val=2\n",
    "print(type(val))\n",
    "a=Decimal(val)\n",
    "print(a)\n",
    "b=a*Decimal(val)\n",
    "print(b)\n",
    "\n",
    "\n",
    "\n",
    "\n"
   ]
  },
  {
   "cell_type": "code",
   "execution_count": 78,
   "metadata": {},
   "outputs": [
    {
     "name": "stdout",
     "output_type": "stream",
     "text": [
      "Muliplication: 0.05999999999999999777955395075\n"
     ]
    },
    {
     "ename": "TypeError",
     "evalue": "unsupported operand type(s) for *: 'decimal.Decimal' and 'float'",
     "output_type": "error",
     "traceback": [
      "\u001b[1;31m---------------------------------------------------------------------------\u001b[0m",
      "\u001b[1;31mTypeError\u001b[0m                                 Traceback (most recent call last)",
      "\u001b[1;32m<ipython-input-78-3e5cdeca0cee>\u001b[0m in \u001b[0;36m<module>\u001b[1;34m\u001b[0m\n\u001b[0;32m     15\u001b[0m \u001b[0mprint\u001b[0m\u001b[1;33m(\u001b[0m\u001b[1;34m\"Muliplication:\"\u001b[0m\u001b[1;33m,\u001b[0m\u001b[0mDecimal\u001b[0m\u001b[1;33m(\u001b[0m\u001b[1;34m'0.2'\u001b[0m\u001b[1;33m)\u001b[0m\u001b[1;33m*\u001b[0m\u001b[0mb\u001b[0m \u001b[1;33m)\u001b[0m \u001b[1;31m# Multiplying a decimal object with float value converted to Decimal\u001b[0m\u001b[1;33m\u001b[0m\u001b[1;33m\u001b[0m\u001b[0m\n\u001b[0;32m     16\u001b[0m \u001b[1;33m\u001b[0m\u001b[0m\n\u001b[1;32m---> 17\u001b[1;33m \u001b[0mprint\u001b[0m\u001b[1;33m(\u001b[0m\u001b[0mDecimal\u001b[0m\u001b[1;33m(\u001b[0m\u001b[1;34m'0.2'\u001b[0m\u001b[1;33m)\u001b[0m\u001b[1;33m*\u001b[0m\u001b[0mval\u001b[0m\u001b[1;33m)\u001b[0m\u001b[1;31m# Error when Decimal obeject is multiplied by a float\u001b[0m\u001b[1;33m\u001b[0m\u001b[1;33m\u001b[0m\u001b[0m\n\u001b[0m\u001b[0;32m     18\u001b[0m \u001b[1;33m\u001b[0m\u001b[0m\n\u001b[0;32m     19\u001b[0m \u001b[1;33m\u001b[0m\u001b[0m\n",
      "\u001b[1;31mTypeError\u001b[0m: unsupported operand type(s) for *: 'decimal.Decimal' and 'float'"
     ]
    }
   ],
   "source": [
    "#6. Can Decimal objects and floating-point values be combined easily?\n",
    "#(A)\n",
    "#Arithmetic operfations like Adding,subtracting or multiplying a Decimal object by a \n",
    "# floating-point value is generates an error.\n",
    "#To do these operations, the floating point has to be converted to a Decimal\n",
    "#object—for example, converting from a floating-point value and then rounding.\n",
    "#Else, arithmetic operations between the two types cause runtime errors.\n",
    "\n",
    "import decimal\n",
    "from decimal import Decimal\n",
    "\n",
    "val=0.3\n",
    "\n",
    "b=Decimal(val)\n",
    "print(\"Muliplication:\",Decimal('0.2')*b ) # Multiplying a decimal object with float value converted to Decimal\n",
    "\n",
    "print(Decimal('0.2')*val)# Error when Decimal obeject is multiplied by a float\n",
    "\n",
    "\n",
    "\n",
    "\n"
   ]
  },
  {
   "cell_type": "code",
   "execution_count": 53,
   "metadata": {},
   "outputs": [
    {
     "name": "stdout",
     "output_type": "stream",
     "text": [
      "1/2\n"
     ]
    }
   ],
   "source": [
    "#7. Using the Fraction class but not the Decimal class, give an example of a quantity that can be expressed with absolute precision.\n",
    "#(A)\n",
    "#\n",
    "#e.g\n",
    "from fractions import Fraction\n",
    "\n",
    "val=0.5\n",
    "fr=Fraction(val)\n",
    "print(fr)\n",
    "\n",
    "\n"
   ]
  },
  {
   "cell_type": "code",
   "execution_count": 69,
   "metadata": {},
   "outputs": [
    {
     "name": "stdout",
     "output_type": "stream",
     "text": [
      "decimal= 0.01\n",
      "fraction= 1/100\n",
      "float value= 0.010000000000000002\n"
     ]
    }
   ],
   "source": [
    "#8. Describe a quantity that can be accurately expressed by the Decimal or Fraction classes but not by a floating-point value.\n",
    "#(A)\n",
    "\n",
    "d=Decimal('0.1') * Decimal('0.1')\n",
    "print(\"decimal=\",d)\n",
    "frac=Fraction('1/10') * Fraction('1/10')\n",
    "print(\"fraction=\",frac)\n",
    "fl=0.1*0.1\n",
    "print(\"float value=\",fl)\n",
    "\n",
    "\n"
   ]
  },
  {
   "cell_type": "code",
   "execution_count": 56,
   "metadata": {},
   "outputs": [
    {
     "name": "stdout",
     "output_type": "stream",
     "text": [
      "1/2\n",
      "1/2\n",
      "Fraction (1,2) and Fraction(5,10) are equal\n"
     ]
    }
   ],
   "source": [
    "#Q9.Consider the following two fraction objects: Fraction(1, 2) and Fraction(1, 2). (5, 10). Is the internal state of these two objects the same? Why do you think that is?\n",
    "#(A)\n",
    "#e.g.\n",
    "\n",
    "from fractions import Fraction\n",
    "frac1=Fraction(1, 2)\n",
    "print(frac1)\n",
    "frac2=Fraction(5, 10)\n",
    "print(frac2)\n",
    "if (frac1 == frac2 ):\n",
    "    print('Fraction (1,2) and Fraction(5,10) are equal')\n",
    "\n",
    "#The internal state of both are same as Fraction(5,10) is reduced to simplest form. \n",
    "# Hence 1/2 is printed in both the cases.\n",
    "\n"
   ]
  },
  {
   "cell_type": "code",
   "execution_count": 77,
   "metadata": {},
   "outputs": [
    {
     "name": "stdout",
     "output_type": "stream",
     "text": [
      "numerator is 1 <class 'int'>\n",
      "denominator is 2 <class 'int'>\n"
     ]
    }
   ],
   "source": [
    "#Q10. How do the Fraction class and the integer type (int) relate to each other? Containment or inheritance?\n",
    "#(A)\n",
    "# Fraction class and integer type(int) are related in form of a container.\n",
    "# It contains two ints, one the numerator and the other the denominator.\n",
    "\n",
    "from fractions import Fraction\n",
    "\n",
    "frac = Fraction(1,2)\n",
    "print('numerator is', frac.numerator,type(frac.numerator))\n",
    "print('denominator is', frac.denominator,type(frac.numerator) )"
   ]
  }
 ],
 "metadata": {
  "kernelspec": {
   "display_name": "Python 3",
   "language": "python",
   "name": "python3"
  },
  "language_info": {
   "codemirror_mode": {
    "name": "ipython",
    "version": 3
   },
   "file_extension": ".py",
   "mimetype": "text/x-python",
   "name": "python",
   "nbconvert_exporter": "python",
   "pygments_lexer": "ipython3",
   "version": "3.8.5"
  }
 },
 "nbformat": 4,
 "nbformat_minor": 4
}
