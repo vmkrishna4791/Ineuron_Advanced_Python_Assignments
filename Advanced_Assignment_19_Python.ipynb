{
 "cells": [
  {
   "cell_type": "code",
   "execution_count": null,
   "metadata": {},
   "outputs": [],
   "source": [
    "#Q1. Define the relationship between a class and its instances. Is it a one-to-one or a one-to-many partnership, for example?\n",
    "#(A)\n",
    "#Class is abstraction of an real world entity. It consists of attributes and methods.\n",
    "#Instance is an object of a class.\n",
    "#It one to many relationship between class and its instatnces.\n",
    "\n"
   ]
  },
  {
   "cell_type": "code",
   "execution_count": null,
   "metadata": {},
   "outputs": [],
   "source": [
    "#Q2. What kind of data is held only in an instance?\n",
    "#(A)\n",
    "#Instance objects contains the Instance variables which are specific to that specific Instance object.\n",
    "\n",
    "\n"
   ]
  },
  {
   "cell_type": "code",
   "execution_count": null,
   "metadata": {},
   "outputs": [],
   "source": [
    "#Q3. What kind of knowledge is stored in a class?\n",
    "#(A)\n",
    "#Class creates a user-defined data structure, which holds its own data members and member functions, \n",
    "#which can be accessed and used by creating an instance of that class. \n",
    "#A class is like a blueprint for an object.\n",
    "\n"
   ]
  },
  {
   "cell_type": "code",
   "execution_count": null,
   "metadata": {},
   "outputs": [],
   "source": [
    "#Q4. What exactly is a method, and how is it different from a regular function?\n",
    "#(A)\n",
    "# The methods with a class can be used to access the insatnce variables of its instance.\n",
    "#So, the object's state can be modified by its method.\n",
    "#Function cant access the attributes of an instance of a class or cant modify the state of the object.\n",
    "\n",
    "\n"
   ]
  },
  {
   "cell_type": "code",
   "execution_count": 10,
   "metadata": {},
   "outputs": [
    {
     "name": "stdout",
     "output_type": "stream",
     "text": [
      "Class of Instance: <class '__main__.B'>\n",
      "Base class: (<class '__main__.A'>,)\n"
     ]
    }
   ],
   "source": [
    "#Q5. Is inheritance supported in Python, and if so, what is the syntax?\n",
    "#(A)\n",
    "#Inheritance is supported by python\n",
    "#e.g.\n",
    "\n",
    "class A:\n",
    "    \n",
    "    var=1\n",
    "    \n",
    "    def __init__(self):\n",
    "        pass\n",
    "    \n",
    "\n",
    "class B(A): # class B is detived from class A\n",
    "    \n",
    "    def __init__(self):\n",
    "        super().__init__()\n",
    "        \n",
    "\n",
    "\n",
    "c=B()\n",
    "print(\"Class of Instance:\",c.__class__)\n",
    "print(\"Base class:\",c.__class__.__bases__)\n",
    "    \n",
    "\n"
   ]
  },
  {
   "cell_type": "code",
   "execution_count": null,
   "metadata": {},
   "outputs": [],
   "source": [
    "#Q6. How much encapsulation (making instance or class variables private) does Python support?\n",
    "#(A)\n",
    "#Encapsulation prevents from accessing accidentally, but not intentionally.\n",
    "\n",
    "#The private attributes and methods are not really hidden.\n",
    "#The private attributes can be accessed within the object method.\n",
    "\n"
   ]
  },
  {
   "cell_type": "code",
   "execution_count": null,
   "metadata": {},
   "outputs": [],
   "source": [
    "#Q7. How do you distinguish between a class variable and an instance variable?\n",
    "#(A)\n",
    "#The class attribute is available to all the instance objects of that class.\n",
    "#Instance variable is accessible only to the object or Instance of that class\n",
    "\n"
   ]
  },
  {
   "cell_type": "code",
   "execution_count": null,
   "metadata": {},
   "outputs": [],
   "source": [
    "#Q8. When, if ever, can self be included in a class's method definitions?\n",
    "#(A) \n",
    "#self can included to access the class variables and instance variiables.\n",
    "\n"
   ]
  },
  {
   "cell_type": "code",
   "execution_count": null,
   "metadata": {},
   "outputs": [],
   "source": [
    "#Q9. What is the difference between the _ _add_ _ and the _ _radd_ _ methods?\n",
    "#(A)\n",
    "#when you add two numbers using the + operator, internally, the __add__() method will be called.\n",
    "# We can overload this method to perform \n",
    "\n"
   ]
  },
  {
   "cell_type": "code",
   "execution_count": null,
   "metadata": {},
   "outputs": [],
   "source": [
    "#Q10. When is it necessary to use a reflection method? When do you not need it, even though you support the operation in question?\n",
    "#(A)\n",
    "# Suppose we are implementing a class that you want to act like a number via operator overloading.\n",
    "# So we implement __add__ in your class, and now expressions like obj + 10 is acceptable. \n",
    "# This is because obj + 10 is interpreted as obj.__add__(10), and the custom method __add__ can \n",
    "# do whatever it means to add 10 to custom class.\n",
    "\n",
    "#However, what about an expression like 10 + obj which is really (10).__add__(myobj)? \n",
    "#The 10 is an instance of a Python built-in type and its __add__ method doesn't know anything \n",
    "# about the new type,obj, so it will return a error NotImplemented. \n",
    "\n",
    "\n",
    "#To handle such scenarios, __radd__ is used. Python will first try (10).__add__(myobj), \n",
    "# and if that returns NotImplemented, Python will check if the right-hand operand implements \n",
    "# __radd__, and if it does, it will call obj.__radd__(10) rather than raising a TypeError. \n"
   ]
  },
  {
   "cell_type": "code",
   "execution_count": 34,
   "metadata": {},
   "outputs": [
    {
     "name": "stdout",
     "output_type": "stream",
     "text": [
      "5\n"
     ]
    }
   ],
   "source": [
    "#Q11. What is the _ _iadd_ _ method called?\n",
    "#(A)\n",
    "#__iadd__ method is called when we use implementation like a+=b which is a.__iadd__(b)\n",
    "\n",
    "class A:\n",
    "    \n",
    "    def __init__(self,x):\n",
    "        self.x=x\n",
    "        \n",
    "        \n",
    "    def __iadd__(self,other):\n",
    "        self.x += other.x\n",
    "        return self.x\n",
    "\n",
    "    \n",
    "obj1=A(2)\n",
    "obj2=A(3)\n",
    "obj1+=obj2\n",
    "print(obj1)\n",
    "    \n",
    "\n"
   ]
  },
  {
   "cell_type": "code",
   "execution_count": 38,
   "metadata": {},
   "outputs": [
    {
     "data": {
      "text/plain": [
       "7"
      ]
     },
     "execution_count": 38,
     "metadata": {},
     "output_type": "execute_result"
    }
   ],
   "source": [
    "#Q12. Is the _ _init_ _ method inherited by subclasses? What do you do if you need to customize its behavior within a subclass?\n",
    "#(A)\n",
    "# __init__ method is inherited by its subclass. But it can be overloaded, to customize it\n",
    "\n",
    "class A:\n",
    "    \n",
    "    def __init__(self,x):\n",
    "        self.x=x\n",
    "\n",
    "class B(A):\n",
    "    pass\n",
    "\n",
    "obj=B(2)\n",
    "obj.x \n",
    "# here the value x is accessible to instance of class B which is subclass of class A.This means\n",
    "# __init__ of class A is inherited in sub class B\n",
    "\n",
    "class C(A):\n",
    "    \n",
    "    def __init__(self,x,y): # Here we are overloading the __init__ inherited from class A \n",
    "        self.x=x\n",
    "        self.y=y\n",
    "    \n",
    "    def func(self):\n",
    "        return(self.x + self.y)\n",
    "    \n",
    "obj1=C(3,4)\n",
    "obj1.func()\n",
    "        \n",
    "\n"
   ]
  },
  {
   "cell_type": "code",
   "execution_count": null,
   "metadata": {},
   "outputs": [],
   "source": []
  }
 ],
 "metadata": {
  "kernelspec": {
   "display_name": "Python 3",
   "language": "python",
   "name": "python3"
  },
  "language_info": {
   "codemirror_mode": {
    "name": "ipython",
    "version": 3
   },
   "file_extension": ".py",
   "mimetype": "text/x-python",
   "name": "python",
   "nbconvert_exporter": "python",
   "pygments_lexer": "ipython3",
   "version": "3.8.5"
  }
 },
 "nbformat": 4,
 "nbformat_minor": 4
}
