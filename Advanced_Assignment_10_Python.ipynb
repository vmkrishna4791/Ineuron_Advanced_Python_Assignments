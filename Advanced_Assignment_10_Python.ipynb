{
 "cells": [
  {
   "cell_type": "code",
   "execution_count": null,
   "metadata": {},
   "outputs": [],
   "source": [
    "#Q1. What is the difference between __getattr__ and __getattribute__?\n",
    "\n",
    "#(A)\n",
    "\n",
    "#__getattr__ method method is used for fetching undefined attributes only (i.e., those not present on an instance \n",
    "# and not inherited from any of its classes). \n",
    "\n",
    "# __getattribute__ method is called for every attribute fetch, whether the attribute\n",
    "#is defined or not. Because of this, code inside a __getattr__ can freely fetch\n",
    "#other attributes if they are defined, whereas __getattribute__ must use special code\n",
    "#for all such attribute fetches to avoid looping or extra calls\n",
    "\n",
    "\n",
    "\n"
   ]
  },
  {
   "cell_type": "code",
   "execution_count": null,
   "metadata": {},
   "outputs": [],
   "source": [
    "#Q2. What is the difference between properties and descriptors?\n",
    "\n",
    "#(A)\n",
    "\n",
    "#Properties define get, set, and delete functions for a specific attribute; \n",
    "#Property is created with a built-in function\n",
    "\n",
    "#Descriptors provide a class with methods for these actions, too, but they provide extra flexibility to support\n",
    "#more arbitrary actions. In fact, properties are really a simple way to create a specific\n",
    "#kind of descriptor, one that runs functions on attribute accesses. \n",
    "\n",
    "#Descriptor is coded with a class; thus, descriptors can leverage all the usual OOP features of classes, such\n",
    "# as inheritance. Moreover, in addition to the instance’s state information, descriptors\n",
    "#have local state of their own, so they can sometimes avoid name collisions in\n",
    "#the instance.\n",
    "\n",
    "\n",
    "\n"
   ]
  },
  {
   "cell_type": "code",
   "execution_count": null,
   "metadata": {},
   "outputs": [],
   "source": [
    "#Q3. What are the key differences in functionality between __getattr__ and __getattribute__, as well as properties and descriptors?\n",
    "\n",
    "#(A)\n",
    "\n",
    "#The __getattr__ and __getattribute__ methods are more generic: they can be used\n",
    "#to catch arbitrarily many attributes. \n",
    "\n",
    "#In contrast, each property or descriptor provides\n",
    "#access interception for only one specific attribute, we can’t catch every attribute\n",
    "#fetch with a single property or descriptor. \n",
    "\n",
    "#On the other hand, properties\n",
    "#and descriptors handle both attribute fetch and assignment by design\n",
    "\n",
    "#__getattr__ and __getattribute__ handle fetches only; to intercept assignments as well,\n",
    "#__setattr__ must also be coded. The implementation is also different\n",
    "\n",
    "#__getattr__ and __getattribute__ are operator overloading methods, whereas properties\n",
    "#and descriptors are objects manually assigned to class attributes. \n",
    "\n",
    "#Unlike the others, properties and descriptors can also sometimes avoid extra calls on assignment\n",
    "#to unmanaged names, and show up in dir results automatically, but are also\n"
   ]
  }
 ],
 "metadata": {
  "kernelspec": {
   "display_name": "Python 3",
   "language": "python",
   "name": "python3"
  },
  "language_info": {
   "codemirror_mode": {
    "name": "ipython",
    "version": 3
   },
   "file_extension": ".py",
   "mimetype": "text/x-python",
   "name": "python",
   "nbconvert_exporter": "python",
   "pygments_lexer": "ipython3",
   "version": "3.8.5"
  }
 },
 "nbformat": 4,
 "nbformat_minor": 4
}
