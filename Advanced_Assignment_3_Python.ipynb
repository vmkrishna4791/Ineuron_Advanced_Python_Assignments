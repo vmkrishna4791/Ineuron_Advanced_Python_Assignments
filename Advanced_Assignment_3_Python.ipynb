{
 "cells": [
  {
   "cell_type": "code",
   "execution_count": 3,
   "metadata": {},
   "outputs": [
    {
     "name": "stdout",
     "output_type": "stream",
     "text": [
      "Method with in the abstract class\n",
      "Inside the sub class of abstract class\n",
      "Implementation of the absclass abstract method\n"
     ]
    }
   ],
   "source": [
    "#1. What is the concept of an abstract superclass?\n",
    "\n",
    "#A class containing one or more abstract methods is called an abstract class.\n",
    "\n",
    "#Abstract methods do not contain any implementation. \n",
    "#Instead, all the implementations can be defined in the methods of sub-classes that inherit the abstract class.\n",
    "#An abstract method is a method that has a declaration but does not have an implementation. \n",
    "#Python comes with a module that provides the base for defining Abstract Base classes(ABC) and that module name is abc. \n",
    "#ABC works by decorating methods of the base class as abstract and then registering concrete sub classes as implementations \n",
    "# of the abstract base. Such abstract classes are called abstract super class of the subclasses which inherit them.\n",
    "# A method becomes abstract when decorated with the keyword @abstractmethod.\n",
    "\n",
    "from abc import ABC,abstractmethod\n",
    "\n",
    "class Abs_class(ABC): # Abstract class\n",
    "    def display(self):\n",
    "        print(\"Method with in the abstract class\")\n",
    "        \n",
    "    @abstractmethod\n",
    "    def absmethod(self):pass # abstract method\n",
    "    \n",
    "\n",
    "class subclass(Abs_class):\n",
    "    \n",
    "    def display_subclass(self):\n",
    "        print(\"Inside the sub class of abstract class\")\n",
    "        \n",
    "    def absmethod(self):\n",
    "        print(\"Implementation of the absclass abstract method\")\n",
    "\n",
    "\n",
    "sub=subclass()\n",
    "sub.display()\n",
    "sub.display_subclass()\n",
    "sub.absmethod()\n",
    "\n",
    "\n",
    "\n"
   ]
  },
  {
   "cell_type": "code",
   "execution_count": null,
   "metadata": {},
   "outputs": [],
   "source": [
    "#2. What happens when a class statement's top level contains a basic assignment statement?\n",
    "#(A)\n",
    "#Class attributes are attributes that have the same value for all class instances.\n",
    "#Class attributes are defined directly beneath the first line of the class name\n",
    "#They must always be assigned an initial value. When an instance of the class is created, class attributes are automatically created and assigned to their initial values\n",
    "#class attributes are used to define properties that should have the same value for every class instance.\n",
    "\n",
    "\n",
    "\n",
    "\n",
    "\n"
   ]
  },
  {
   "cell_type": "code",
   "execution_count": null,
   "metadata": {},
   "outputs": [],
   "source": [
    "#3. Why does a class need to manually call a superclass's __init__ method?\n",
    "#(A)\n",
    "#sub class need to manually call a superclass's __init__ method to instantiate its object in addition to calling its own __init__ .\n",
    "#it is done using the super()\n",
    "#e.g : super().__init__(self) # this is how the subclass calls the _init_ meyhod of its super class.\n",
    "\n",
    "\n",
    "\n"
   ]
  },
  {
   "cell_type": "code",
   "execution_count": null,
   "metadata": {},
   "outputs": [],
   "source": [
    "#4. How can you augment, instead of completely replacing, an inherited method?\n",
    "#(A)\n",
    "#The inherited method has to redefined in subclass by calling the parent class equivalent\n",
    "#of the inherited method explicitly from the inherited method in the subclass.\n",
    "#e.g:superclass.method_name(self,..)\n",
    "\n",
    "\n",
    "\n"
   ]
  },
  {
   "cell_type": "code",
   "execution_count": null,
   "metadata": {},
   "outputs": [],
   "source": [
    "#5. How is the local scope of a class different from that of a function?\n",
    "#(A)\n",
    "# A variable which is defined inside a function is local to that function. \n",
    "# It is accessible from the point at which it is defined until the end of the function, and exists for as long as the function\n",
    "# is executing. The parameter names in the function definition behave like local variables, but they contain the values that \n",
    "# we pass into the function when we call it.\n",
    "\n",
    "\n",
    "#Declaring a variable in a class (outside of a function) : all class functions can access it (basically a public variable): this is like a static variable and can be called using the class name.\n",
    "#These variables are available to all functions, any functions can modify it and print it.\n",
    "#Declaring a variable inside a function inside a class : only that function can access it (its in that functions scope)\n",
    "#if the variable is declared without self then it is accessible within that function only, kinda local variable.\n"
   ]
  }
 ],
 "metadata": {
  "kernelspec": {
   "display_name": "Python 3",
   "language": "python",
   "name": "python3"
  },
  "language_info": {
   "codemirror_mode": {
    "name": "ipython",
    "version": 3
   },
   "file_extension": ".py",
   "mimetype": "text/x-python",
   "name": "python",
   "nbconvert_exporter": "python",
   "pygments_lexer": "ipython3",
   "version": "3.8.5"
  }
 },
 "nbformat": 4,
 "nbformat_minor": 4
}
