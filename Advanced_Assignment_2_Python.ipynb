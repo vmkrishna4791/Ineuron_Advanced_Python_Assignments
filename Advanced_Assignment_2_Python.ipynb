{
 "cells": [
  {
   "cell_type": "code",
   "execution_count": null,
   "metadata": {},
   "outputs": [],
   "source": [
    "#Q1. What is the relationship between classes and modules?\n",
    "#(A)\n",
    "# A module can contain executable statements as well as function definitions. \n",
    "# These statements are intended to initialize the module. \n",
    "# They are executed only the first time the module name is encountered in an import statement. \n",
    "# Modules can contain functions but also classes.\n",
    "\n",
    "#Classes provide a means of bundling data and functionality together. \n",
    "#Creating a new class creates a new type of object, allowing new instances of that type to be made. \n",
    "#Each class instance can have attributes attached to it for maintaining its state. \n",
    "#Class instances can also have methods (defined by its class) for modifying its state.\n",
    "\n",
    "\n",
    "\n"
   ]
  },
  {
   "cell_type": "code",
   "execution_count": 3,
   "metadata": {},
   "outputs": [
    {
     "name": "stdout",
     "output_type": "stream",
     "text": [
      "['Circle', 'In', 'Out', '_', '_2', '__', '___', '__builtin__', '__builtins__', '__doc__', '__loader__', '__name__', '__package__', '__spec__', '_dh', '_i', '_i1', '_i2', '_i3', '_ih', '_ii', '_iii', '_oh', 'exit', 'get_ipython', 'obj', 'quit']\n"
     ]
    }
   ],
   "source": [
    "#Q2. How do you make instances and classes?\n",
    "#(A)\n",
    "# Class − A user-defined prototype for an object that defines a set of attributes that characterize any object of the class. \n",
    "# The attributes are data members (class variables and instance variables) and methods, accessed via dot notation.\n",
    "\n",
    "# Instance − An individual object of a certain class.\n",
    "# An object obj that belongs to a class Circle, for example, is an instance of the class Circle.\n",
    "\n",
    "class Circle:  # class definition\n",
    "    pass\n",
    "\n",
    "obj=Circle() # Instance of a class Circle\n",
    "print(dir())\n",
    "\n",
    "\n",
    "\n",
    "\n"
   ]
  },
  {
   "cell_type": "code",
   "execution_count": 2,
   "metadata": {},
   "outputs": [
    {
     "name": "stdout",
     "output_type": "stream",
     "text": [
      "10 20\n"
     ]
    },
    {
     "data": {
      "text/plain": [
       "30"
      ]
     },
     "metadata": {},
     "output_type": "display_data"
    },
    {
     "data": {
      "text/plain": [
       "40"
      ]
     },
     "metadata": {},
     "output_type": "display_data"
    },
    {
     "name": "stdout",
     "output_type": "stream",
     "text": [
      "100 50\n",
      "['A', 'In', 'Out', '_', '__', '___', '__builtin__', '__builtins__', '__doc__', '__loader__', '__name__', '__package__', '__spec__', '_dh', '_i', '_i1', '_i2', '_ih', '_ii', '_iii', '_oh', 'exit', 'get_ipython', 'obj', 'quit']\n",
      "\n",
      " __name__ contains the name of the class: A\n",
      "\n",
      " {'__module__': '__main__', '__doc__': 'class attributes', 'x': 100, 'y': 50, '__init__': <function A.__init__ at 0x000001C21D5DB550>, 'display': <function A.display at 0x000001C21D5DB1F0>, '__dict__': <attribute '__dict__' of 'A' objects>, '__weakref__': <attribute '__weakref__' of 'A' objects>}\n"
     ]
    }
   ],
   "source": [
    "#Q3. Where and how should be class attributes created?\n",
    "#(A) class attributes are created just after the class definition\n",
    "# They can also be created by explicitly assigning to them out the class. \n",
    "\n",
    "#e.g\n",
    "class A:\n",
    "    \"class attributes\"\n",
    "    x=10\n",
    "    y=20\n",
    "    \n",
    "    def __init__(self):\n",
    "        pass\n",
    "    \n",
    "    def display(self,a,b):\n",
    "        self.a=a\n",
    "        self.b=b\n",
    "        return self.a, self.b\n",
    "        \n",
    "        \n",
    "obj=A()\n",
    "print(obj.x,obj.y)\n",
    "\n",
    "display(30,40)\n",
    "\n",
    "# Assigning values to the class attributes outside in the format classname.class sttribute\n",
    "\n",
    "A.x=100  \n",
    "A.y=50\n",
    "\n",
    "print(A.x,A.y)\n",
    "\n",
    "print(dir())\n",
    "\n",
    "print (\"\\n __name__ contains the name of the class:\",A.__name__) # __name__ contains the name of the class\n",
    "\n",
    "print(\"\\n\",A.__dict__)\n",
    "        \n",
    "\n",
    "\n",
    "\n"
   ]
  },
  {
   "cell_type": "code",
   "execution_count": 3,
   "metadata": {},
   "outputs": [
    {
     "name": "stdout",
     "output_type": "stream",
     "text": [
      "50 60\n",
      "1\n"
     ]
    }
   ],
   "source": [
    "#Q4. Where and how are instance attributes created?\n",
    "\n",
    "#(A) Instance attributes are created when the instance of the object is initialized using __init__ function\n",
    "\n",
    "class A:\n",
    "    def __init__(self,x,y):\n",
    "        self.x=x # instance attribute of each instance\n",
    "        self.y=y # instance attribute of each instance\n",
    "        \n",
    "    def display(self):\n",
    "        print(self.x,self.y)\n",
    "\n",
    "obj=A(50,60) # instance attributes x and y are created when an instantiation of the class A\n",
    "obj.display()\n",
    "\n",
    "obj.counter=1 #instance attributes can also be created out a class using the object.<newvariable>=<value>\n",
    "print(obj.counter)\n",
    "\n",
    "\n",
    "    \n",
    "\n",
    "\n"
   ]
  },
  {
   "cell_type": "code",
   "execution_count": 18,
   "metadata": {},
   "outputs": [
    {
     "name": "stdout",
     "output_type": "stream",
     "text": [
      "Hello my name is Donald\n"
     ]
    }
   ],
   "source": [
    "#Q5. What does the term \"self\" in a Python class mean?\n",
    "#(A) The 'self' parameter is a reference to the current instance of the class, and is used to access variables \n",
    "# that belongs to the class.\n",
    "\n",
    "#e.g\n",
    "\n",
    "class Person:\n",
    "  def __init__(self, name, age):\n",
    "    self.name = name\n",
    "    self.age = age\n",
    "\n",
    "  def myfunc(abc):\n",
    "    print(\"Hello my name is \" + abc.name)\n",
    "\n",
    "p1 = Person(\"Donald\", 56) # the instance of the class Person, p1 is passed by default to 'self' in the function __init__\n",
    "p1.myfunc()\n",
    "\n",
    "\n"
   ]
  },
  {
   "cell_type": "code",
   "execution_count": 21,
   "metadata": {},
   "outputs": [
    {
     "name": "stdout",
     "output_type": "stream",
     "text": [
      "(4, 23)\n"
     ]
    }
   ],
   "source": [
    "#Q6. How does a Python class handle operator overloading?\n",
    "#(A)\n",
    "\n",
    "class addition:\n",
    "   def __init__(self, a, b):\n",
    "      self.a = a\n",
    "      self.b = b\n",
    "\n",
    "   def __str__(self):\n",
    "      return 'operator loading'\n",
    "   \n",
    "   def __add__(self,other): # the methods used for operator overloading\n",
    "      return self.a + other.a, self.b + other.b\n",
    "\n",
    "a1 = addition(7,16)\n",
    "a2 = addition(-3,7)\n",
    "print (a1 + a2)\n",
    "\n",
    "\n"
   ]
  },
  {
   "cell_type": "code",
   "execution_count": null,
   "metadata": {},
   "outputs": [],
   "source": [
    "#Q7. When do you consider allowing operator overloading of your classes?\n",
    "#Operator Overloading means giving extended meaning beyond their predefined operational meaning.\n",
    "#For example operator + is used to add two integers as well as join two strings and merge two lists. \n",
    "#It is achievable because ‘+’ operator is overloaded by int class and str class. \n",
    "#the same built-in operator or function shows different behavior for objects of different classes, this is called Operator Overloading.\n",
    "#It is normally used for performing mathematical operations like Vector operations etc.\n",
    " \n",
    "\n",
    "\n"
   ]
  },
  {
   "cell_type": "code",
   "execution_count": null,
   "metadata": {},
   "outputs": [],
   "source": [
    "#Q8. What is the most popular form of operator overloading?\n",
    "#(A)\n",
    "#One of the most important operator overloading methods is the __init__ method. \n",
    "#This method is called whenever the class name is used for instantiation, and allows you to initialize attributes \n",
    "#in your object at the same time as you create it.\n",
    "\n",
    "\n",
    "\n"
   ]
  },
  {
   "cell_type": "code",
   "execution_count": null,
   "metadata": {},
   "outputs": [],
   "source": [
    "#Q9. What are the two most important concepts to grasp in order to comprehend Python OOP code?\n",
    "#(A)Self used within the class, Inheritance and __init__ are important concepts of python OOP code. \n",
    "# These concepts help us to create code that can be extended and easily maintainable.\n",
    "\n",
    "# Inheritance is a great way to eliminate unnecessary repetitive code. A child class can inherit from the parent class partially\n",
    "# or entirely. \n",
    "\n",
    "#self, the instance of the object is passed by default to __init__ to instatntiate and create instance variables.\n",
    "\n",
    "\n"
   ]
  }
 ],
 "metadata": {
  "kernelspec": {
   "display_name": "Python 3",
   "language": "python",
   "name": "python3"
  },
  "language_info": {
   "codemirror_mode": {
    "name": "ipython",
    "version": 3
   },
   "file_extension": ".py",
   "mimetype": "text/x-python",
   "name": "python",
   "nbconvert_exporter": "python",
   "pygments_lexer": "ipython3",
   "version": "3.8.5"
  }
 },
 "nbformat": 4,
 "nbformat_minor": 4
}
