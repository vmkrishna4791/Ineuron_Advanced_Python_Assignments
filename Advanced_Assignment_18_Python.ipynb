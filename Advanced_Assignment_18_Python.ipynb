{
 "cells": [
  {
   "cell_type": "code",
   "execution_count": null,
   "metadata": {},
   "outputs": [],
   "source": [
    "#Q1. Describe the differences between text and binary files in a single paragraph.\n",
    "#(A)\n",
    "#Binary files typically contain a sequence of bytes, or ordered groupings of eight bits.\n",
    "#When creating a custom file format for a program,  these bytes are arranged into a format that\n",
    "#stores the necessary information for the application. Binary file formats may include multiple types of data in\n",
    "#the same file, such as image, video, and audio data. This data can be interpreted by supporting programs, \n",
    "#but will show up as garbled text in a text editor. \n",
    "\n",
    "\n",
    "#Text files are more restrictive than binary files since they can only contain textual data. \n",
    "#However, unlike binary files, they are less likely to become corrupted. While a small error in a binary file may \n",
    "#make it unreadable, a small error in a text file may simply show up once the file has been opened.\n",
    "#Text files may be saved in either a plain text (.TXT) format and rich text (.RTF) format. A typical plain \n",
    "#text file contains several lines of text that are each followed by an End-of-Line (EOL) character. \n",
    "#An End-of-File (EOF) marker is placed after the final character, which signals the end of the file. \n",
    "#Rich text files use a similar file structure, but may also include text styles, such as bold and italics, \n",
    "#as well as page formatting information. Both plain text and rich text files include a (character encoding) \n",
    "#scheme that determines how the characters are interpreted and what characters can be displayed.\n",
    "#Since text files use a simple, standard format, many programs are capable of reading and editing text files.\n",
    "\n",
    "\n"
   ]
  },
  {
   "cell_type": "code",
   "execution_count": null,
   "metadata": {},
   "outputs": [],
   "source": [
    "#Q2. What are some scenarios where using text files will be the better option? When would you like to use binary files instead of text files?\n",
    "#(A)\n",
    "\n",
    "# Text files include small size and versatility. Kilobytes or megabytes smaller than the same data \n",
    "#stored in other formats, they can be rapidly and massively exchanged via email or disk. Most can be opened on \n",
    "#computers running diverse operating systems, using very basic software.\n",
    "\n",
    "# Binary files is that they are more efficient. In terms of memory, storing values using numeric formats,\n",
    "#rather than as text characters, tends to use less memory. In addition, binary formats also offer advantages\n",
    "#in terms of speed of access.\n",
    "\n",
    "\n"
   ]
  },
  {
   "cell_type": "code",
   "execution_count": null,
   "metadata": {},
   "outputs": [],
   "source": [
    "Q3. What are some of the issues with using binary operations to read and write a Python integer directly to disc?\n",
    "#(A)\n",
    "#When we read or write a python integer using binary operations \n",
    "#1)Binary operations deal with raw data\n",
    "#2)one needs to identify how many bytes one would read or write.\n",
    "\n",
    "\n",
    "\n"
   ]
  },
  {
   "cell_type": "code",
   "execution_count": null,
   "metadata": {},
   "outputs": [],
   "source": [
    "Q4. Describe a benefit of using the with keyword instead of explicitly opening a file.\n",
    "#(A)\n",
    "#When a file is opened using the 'with' keyword, if some exceptions occur after opening a file, or at the end of the file\n",
    "# it automatically does the closing of the file. There by not leaving an file in open mode and there would no need to \n",
    "# explicitly close a file.\n",
    "\n",
    "\n",
    "\n"
   ]
  },
  {
   "cell_type": "code",
   "execution_count": null,
   "metadata": {},
   "outputs": [],
   "source": [
    "#Q5. Does Python have the trailing newline while reading a line of text? Does Python append a newline when you write a line of text?\n",
    "#(A)While reading a newline of text from atext file, python reads the newline also.\n",
    "# While writing the python doesnt append a new line at end of line. It has to be handled explicitly.\n",
    "\n",
    "\n"
   ]
  },
  {
   "cell_type": "code",
   "execution_count": null,
   "metadata": {},
   "outputs": [],
   "source": [
    "#Q6. What file operations enable for random-access operation?\n",
    "#(A)\n",
    "# The file operations like seek(pos,orig), tell() enable random access operations.  \n",
    "\n",
    "\n",
    "\n"
   ]
  },
  {
   "cell_type": "code",
   "execution_count": 88,
   "metadata": {},
   "outputs": [
    {
     "data": {
      "text/plain": [
       "(155,)"
      ]
     },
     "execution_count": 88,
     "metadata": {},
     "output_type": "execute_result"
    }
   ],
   "source": [
    "#Q7. When do you think you'll use the struct package the most?\n",
    "#(A)\n",
    "# The struct package is mostly used while converting a common python types into 'C' language types.\n",
    "#This is done by packing python variables into data fields of specific sizes.\n",
    "#So, when we try read , right number of bytes are read. This useful when interacting with existing binary files.\n",
    "\n",
    "# Reading and writing a single integer using struct package\n",
    "\n",
    "\n",
    "from struct import pack, unpack, calcsize\n",
    "\n",
    "def write_file(fname,int_n):\n",
    "    with open(fname,'wb') as f:\n",
    "        bss=pack('h',int_n)\n",
    "        f.write(bss)\n",
    "        \n",
    "def read_file(fname):\n",
    "    with open(fname,'rb') as rf:\n",
    "        bss=rf.read(calcsize('h'))\n",
    "        return unpack('h',bss)\n",
    "        \n",
    "write_file('struct_file1.dat',155)\n",
    "read_file('struct_file1.dat')\n",
    "    \n",
    "    \n",
    "\n"
   ]
  },
  {
   "cell_type": "code",
   "execution_count": null,
   "metadata": {},
   "outputs": [],
   "source": [
    "Q8. When is pickling the best option?\n",
    "#(A)Pickling is best option when creating a new binary file using python.\n",
    "#Once a file is created it can be read by other python programs. The functions available in the pickle package\n",
    "# take care how to represent the data is written in th file.\n",
    "\n",
    "\n",
    "\n"
   ]
  },
  {
   "cell_type": "code",
   "execution_count": null,
   "metadata": {},
   "outputs": [],
   "source": [
    "#Q9. When will it be best to use the shelve package?\n",
    "#(A)\n",
    "#Shelve package is used to pickle data but treats the treats the entire file as dictionary.\n",
    "#The location of any object is looked up according to its key and is returned easily.\n",
    "\n",
    "\n"
   ]
  },
  {
   "cell_type": "code",
   "execution_count": null,
   "metadata": {},
   "outputs": [],
   "source": [
    "#Q10. What is a special restriction when using the shelve package, as opposed to using other data dictionaries?\n",
    "#(A)\n",
    "#A “shelf” is a persistent, dictionary-like object. The difference with “dbm” databases is that the values (not the keys!)\n",
    "#in a shelf can be essentially arbitrary Python objects — anything that the pickle module can handle. \n",
    "#This includes most class instances, recursive data types, and objects containing lots of shared sub-objects.\n",
    "#The keys are ordinary strings."
   ]
  }
 ],
 "metadata": {
  "kernelspec": {
   "display_name": "Python 3",
   "language": "python",
   "name": "python3"
  },
  "language_info": {
   "codemirror_mode": {
    "name": "ipython",
    "version": 3
   },
   "file_extension": ".py",
   "mimetype": "text/x-python",
   "name": "python",
   "nbconvert_exporter": "python",
   "pygments_lexer": "ipython3",
   "version": "3.8.5"
  }
 },
 "nbformat": 4,
 "nbformat_minor": 4
}
