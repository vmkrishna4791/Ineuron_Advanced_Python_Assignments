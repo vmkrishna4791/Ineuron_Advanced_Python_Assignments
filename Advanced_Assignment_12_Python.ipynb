{
 "cells": [
  {
   "cell_type": "code",
   "execution_count": 3,
   "metadata": {},
   "outputs": [
    {
     "name": "stdout",
     "output_type": "stream",
     "text": [
      "o\n"
     ]
    },
    {
     "ename": "TypeError",
     "evalue": "'str' object does not support item assignment",
     "output_type": "error",
     "traceback": [
      "\u001b[1;31m---------------------------------------------------------------------------\u001b[0m",
      "\u001b[1;31mTypeError\u001b[0m                                 Traceback (most recent call last)",
      "\u001b[1;32m<ipython-input-3-e3440620372f>\u001b[0m in \u001b[0;36m<module>\u001b[1;34m\u001b[0m\n\u001b[0;32m      5\u001b[0m \u001b[1;33m\u001b[0m\u001b[0m\n\u001b[0;32m      6\u001b[0m \u001b[0mprint\u001b[0m\u001b[1;33m(\u001b[0m\u001b[0mvar\u001b[0m\u001b[1;33m[\u001b[0m\u001b[1;36m4\u001b[0m\u001b[1;33m]\u001b[0m\u001b[1;33m)\u001b[0m\u001b[1;33m\u001b[0m\u001b[1;33m\u001b[0m\u001b[0m\n\u001b[1;32m----> 7\u001b[1;33m \u001b[0mvar\u001b[0m\u001b[1;33m[\u001b[0m\u001b[1;36m4\u001b[0m\u001b[1;33m]\u001b[0m \u001b[1;33m=\u001b[0m \u001b[1;34m'p'\u001b[0m\u001b[1;33m\u001b[0m\u001b[1;33m\u001b[0m\u001b[0m\n\u001b[0m\u001b[0;32m      8\u001b[0m \u001b[1;33m\u001b[0m\u001b[0m\n\u001b[0;32m      9\u001b[0m \u001b[1;33m\u001b[0m\u001b[0m\n",
      "\u001b[1;31mTypeError\u001b[0m: 'str' object does not support item assignment"
     ]
    }
   ],
   "source": [
    "#Q1. Does assigning a value to a string's indexed character violate Python's string immutability?\n",
    "#(A)\n",
    "# Yes, assigning a value to a string's indexed character violates the python string's immutability\n",
    "#e.g.\n",
    "\n",
    "var = \"Hello\"\n",
    "print(var[4])\n",
    "var[4] = 'p'\n",
    "\n",
    "\n"
   ]
  },
  {
   "cell_type": "code",
   "execution_count": 19,
   "metadata": {},
   "outputs": [
    {
     "name": "stdout",
     "output_type": "stream",
     "text": [
      "HelloWorld\n"
     ]
    }
   ],
   "source": [
    "#Q2. Does using the += operator to concatenate strings violate Python's string immutability? Why or why not?\n",
    "#(A)\n",
    "# += operator, doesnt violate the python's string immutability, because we are concatenating another string\n",
    "# to the end of the first, not trying to replace any of the characters in the strings in between.\n",
    "\n",
    "#e.g.\n",
    "\n",
    "var1=\"Hello\"\n",
    "var2 = 'World'\n",
    "\n",
    "var1+=var2\n",
    "print(var1)\n",
    "\n",
    "\n",
    "\n",
    "\n"
   ]
  },
  {
   "cell_type": "code",
   "execution_count": 22,
   "metadata": {},
   "outputs": [
    {
     "name": "stdout",
     "output_type": "stream",
     "text": [
      "H\n",
      "l\n"
     ]
    }
   ],
   "source": [
    "#Q3. In Python, how many different ways are there to index a character?\n",
    "#(A)\n",
    "\n",
    "#We can access characters in a String in Two ways :\n",
    "\n",
    "#1)Accessing Characters by Positive Index Number. \n",
    "#2)Accessing Characters by Negative Index Number.\n",
    "\n",
    "#e.g.\n",
    "\n",
    "Var = \"Hello World\"\n",
    "\n",
    "print(var[5])\n",
    "print(var[-8])\n",
    "\n",
    "\n",
    "\n"
   ]
  },
  {
   "cell_type": "code",
   "execution_count": 42,
   "metadata": {},
   "outputs": [
    {
     "name": "stdout",
     "output_type": "stream",
     "text": [
      "ello\n",
      "lo Worl\n"
     ]
    }
   ],
   "source": [
    "#Q4. What is the relationship between indexing and slicing?\n",
    "#(A)\n",
    "#Using indexes, the slicing operation is done i.e. e.g string[startindex:stopindex:increment]\n",
    "\n",
    "#e.g.\n",
    "\n",
    "var = \"Hello World\"\n",
    "\n",
    "print(var[1:5:1])\n",
    "print(var[-8:-1])\n",
    "\n",
    "\n"
   ]
  },
  {
   "cell_type": "code",
   "execution_count": 45,
   "metadata": {},
   "outputs": [
    {
     "name": "stdout",
     "output_type": "stream",
     "text": [
      "<class 'str'>\n",
      "<class 'str'>\n"
     ]
    }
   ],
   "source": [
    "#Q5. What is an indexed character's exact data type? What is the data form of a slicing-generated substring?\n",
    "#(A)\n",
    "#The data type of the indexed character is a string. \n",
    "#The data form of slicing-generated substring is also a string.\n",
    "\n",
    "#e.g.\n",
    "var = \"Hello World\"\n",
    "print(type(var[3]))\n",
    "print(type(var[1:5]))\n",
    "\n",
    "\n"
   ]
  },
  {
   "cell_type": "code",
   "execution_count": null,
   "metadata": {},
   "outputs": [],
   "source": [
    "#Q6. What is the relationship between string and character \"types\" in Python?\n",
    "#(A)\n",
    "\n",
    "# In python there is no character data type, a character is a string of length one.\n",
    "# Strings are sequences of character data.\n",
    "\n",
    "\n"
   ]
  },
  {
   "cell_type": "code",
   "execution_count": 56,
   "metadata": {},
   "outputs": [
    {
     "name": "stdout",
     "output_type": "stream",
     "text": [
      "HelloWorld\n",
      "HelloWorld\n",
      "HelloWorldWorld\n"
     ]
    }
   ],
   "source": [
    "#Q7. Identify at least two operators and one method that allow you to combine one or more smaller strings to create a larger string.\n",
    "#(A)\n",
    "#Two operators : +, +=\n",
    "#Method : join()\n",
    "\n",
    "#e.g.\n",
    "\n",
    "print('Hello'+'World')\n",
    "\n",
    "var1='Hello'\n",
    "var2='World'\n",
    "var1+=var2\n",
    "print(var1)\n",
    "\n",
    "print(''.join([var1,var2]))\n",
    "\n",
    "\n",
    "\n",
    "\n",
    "\n"
   ]
  },
  {
   "cell_type": "code",
   "execution_count": 62,
   "metadata": {},
   "outputs": [
    {
     "name": "stdout",
     "output_type": "stream",
     "text": [
      "True\n",
      "False\n",
      "True\n",
      "False\n"
     ]
    }
   ],
   "source": [
    "#Q8. What is the benefit of first checking the target string with in or not in before using the index method to find a substring?\n",
    "#(A)\n",
    "#The benifit is that it returns True or False by using the 'in' or 'not in'.\n",
    "\n",
    "#e.g.\n",
    "print('Hello' in 'Hello World')\n",
    "print('Eh' in 'Hello World')\n",
    "\n",
    "print('Eh' not in 'Hello World')\n",
    "print('Hello' not in 'Hello World')\n",
    "\n",
    "\n"
   ]
  },
  {
   "cell_type": "code",
   "execution_count": null,
   "metadata": {},
   "outputs": [],
   "source": [
    "#Q9. Which operators and built-in string methods produce simple Boolean (true/false) results?\n",
    "#(A)\n",
    "# Operators : >,<,>=,<=,==\n",
    "# built-in string methods : isalpha, isdecimal, isdigit, islower, isupper, isspace, isprintable etc\n"
   ]
  }
 ],
 "metadata": {
  "kernelspec": {
   "display_name": "Python 3",
   "language": "python",
   "name": "python3"
  },
  "language_info": {
   "codemirror_mode": {
    "name": "ipython",
    "version": 3
   },
   "file_extension": ".py",
   "mimetype": "text/x-python",
   "name": "python",
   "nbconvert_exporter": "python",
   "pygments_lexer": "ipython3",
   "version": "3.8.5"
  }
 },
 "nbformat": 4,
 "nbformat_minor": 4
}
