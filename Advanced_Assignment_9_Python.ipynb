{
 "cells": [
  {
   "cell_type": "code",
   "execution_count": null,
   "metadata": {},
   "outputs": [],
   "source": [
    "#Q1. In Python 3.X, what are the names and functions of string object types?\n",
    "\n",
    "\n",
    "#(A)\n",
    "#(a)str\n",
    "#(b) bytes\n",
    "#(c) bytearray\n",
    "\n",
    "\n",
    "\n"
   ]
  },
  {
   "cell_type": "code",
   "execution_count": null,
   "metadata": {},
   "outputs": [],
   "source": [
    "#Q2. How do the string forms in Python 3.X vary in terms of operations?\n",
    "\n",
    "#(A)\n",
    "#In 3.X, Unicode text is handled by str,  byte-based data is handled by bytes\n",
    "\n",
    "\n",
    "\n"
   ]
  },
  {
   "cell_type": "code",
   "execution_count": 4,
   "metadata": {},
   "outputs": [],
   "source": [
    "#Q3. In 3.X, how do you put non-ASCII Unicode characters in a string?\n",
    "\n",
    "#(A)\n",
    "#Non-ASCII Unicode characters can be coded in a string with both hex (\\xNN) and\n",
    "#Unicode (\\uNNNN, \\UNNNNNNNN) escapes.\n",
    "\n",
    "\n",
    "\n",
    "\n"
   ]
  },
  {
   "cell_type": "code",
   "execution_count": null,
   "metadata": {},
   "outputs": [],
   "source": [
    "#Q4. In Python 3.X, what are the key differences between text-mode and binary-mode files?\n",
    "\n",
    "#(A)\n",
    "# In 3.X,text-mode files assume their file content is Unicode text (even if it’s all ASCII) \n",
    "# and automatically decode when reading and encode when writing.\n",
    "# With binary-mode files, bytes are transferred to and from the file unchanged\n",
    "\n"
   ]
  },
  {
   "cell_type": "code",
   "execution_count": null,
   "metadata": {},
   "outputs": [],
   "source": [
    "#Q5. How can you interpret a Unicode text file containing text encoded in a different encoding than your platform's default?\n",
    "#(A)\n",
    "\n",
    "#In 3.X, to read files encoded in a different encoding than the default for your platform,\n",
    "# pass the name of the file’s encoding to the open function. This will decode the contents of the file read.\n",
    "\n",
    "\n",
    "\n"
   ]
  },
  {
   "cell_type": "code",
   "execution_count": null,
   "metadata": {},
   "outputs": [],
   "source": [
    "#Q6. What is the best way to make a Unicode text file in a particular encoding format?\n",
    "#(A)\n",
    "\n",
    "# To create a Unicode text file in a specific encoding format, pass the desired encoding\n",
    "# name to open function; strings will be encoded as per encoding when contents are written to the file.\n",
    "\n",
    "\n"
   ]
  },
  {
   "cell_type": "code",
   "execution_count": null,
   "metadata": {},
   "outputs": [],
   "source": [
    "#Q7. What qualifies ASCII text as a form of Unicode text?\n",
    "#(A)\n",
    "\n",
    "# ASCII is subset of the Unicode text.\n",
    "\n",
    "\n",
    "\n"
   ]
  },
  {
   "cell_type": "code",
   "execution_count": null,
   "metadata": {},
   "outputs": [],
   "source": []
  },
  {
   "cell_type": "code",
   "execution_count": null,
   "metadata": {},
   "outputs": [],
   "source": []
  },
  {
   "cell_type": "code",
   "execution_count": null,
   "metadata": {},
   "outputs": [],
   "source": []
  },
  {
   "cell_type": "code",
   "execution_count": null,
   "metadata": {},
   "outputs": [],
   "source": []
  }
 ],
 "metadata": {
  "kernelspec": {
   "display_name": "Python 3",
   "language": "python",
   "name": "python3"
  },
  "language_info": {
   "codemirror_mode": {
    "name": "ipython",
    "version": 3
   },
   "file_extension": ".py",
   "mimetype": "text/x-python",
   "name": "python",
   "nbconvert_exporter": "python",
   "pygments_lexer": "ipython3",
   "version": "3.8.5"
  }
 },
 "nbformat": 4,
 "nbformat_minor": 4
}
